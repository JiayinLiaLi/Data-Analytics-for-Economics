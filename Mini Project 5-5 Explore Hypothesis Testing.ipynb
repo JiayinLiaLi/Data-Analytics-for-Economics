{
 "cells": [
  {
   "cell_type": "markdown",
   "id": "e42b8c25",
   "metadata": {
    "id": "d25eed62-5910-4d10-a976-c18c4f7d99f7"
   },
   "source": [
    "# Mini Project 5-5 Explore Hypothesis Testing"
   ]
  },
  {
   "cell_type": "markdown",
   "id": "675c2fda",
   "metadata": {
    "id": "b50579ec-09df-4bb1-ad5a-d28f4790ca16"
   },
   "source": [
    "## Introduction"
   ]
  },
  {
   "cell_type": "markdown",
   "id": "23760299",
   "metadata": {
    "id": "6a8992ac-22d5-41db-aa09-263b464950e0"
   },
   "source": [
    "You work for an environmental think tank called Repair Our Air (ROA). ROA is formulating policy recommendations to improve the air quality in America, using the Environmental Protection Agency's Air Quality Index (AQI) to guide their decision making. An AQI value close to 0 signals \"little to no\" public health concern, while higher values are associated with increased risk to public health. \n",
    "\n",
    "They've tasked you with leveraging AQI data to help them prioritize their strategy for improving air quality in America."
   ]
  },
  {
   "cell_type": "markdown",
   "id": "595a5280",
   "metadata": {
    "id": "6e4e3b8a-b5f9-4fe1-a824-0bd3aece693c"
   },
   "source": [
    "ROA is considering the following decisions. For each, construct a hypothesis test and an accompanying visualization, using your results of that test to make a recommendation:\n",
    "\n",
    "1. ROA is considering a metropolitan-focused approach. Within California, they want to know if the mean AQI in Los Angeles County is statistically different from the rest of California.\n",
    "2. With limited resources, ROA has to choose between New York and Ohio for their next regional office. Does New York have a lower AQI than Ohio?\n",
    "3. A new policy will affect those states with a mean AQI of 10 or greater. Will Michigan be affected by this new policy?\n",
    "\n",
    "**Notes:**\n",
    "1. For your analysis, you'll default to a 5% level of significance.\n",
    "2. Throughout the lab, for two-sample t-tests, use Welch's t-test (i.e., setting the `equal_var` parameter to `False` in `scipy.stats.ttest_ind()`). This will account for the possibly unequal variances between the two groups in the comparison."
   ]
  },
  {
   "cell_type": "markdown",
   "id": "d4509934",
   "metadata": {
    "id": "3b4dc9a5-d724-4696-a704-57fefa9d5938"
   },
   "source": [
    "## Step 1: Imports\n",
    "\n",
    "To proceed with your analysis, import `pandas` and `numpy`. To conduct your hypothesis testing, import `stats` from `scipy`."
   ]
  },
  {
   "cell_type": "markdown",
   "id": "cfa1f521",
   "metadata": {
    "id": "3d28827d-9bb3-45c7-a969-c00f6feda0e2"
   },
   "source": [
    "#### Import Packages"
   ]
  },
  {
   "cell_type": "code",
   "execution_count": 1,
   "id": "e06435fe",
   "metadata": {
    "id": "0b3d0e1c-23b9-4491-82a5-ac1e4bd36f30"
   },
   "outputs": [],
   "source": [
    "# Import relevant packages\n",
    "import pandas as pd\n",
    "import numpy as np\n",
    "from scipy import stats"
   ]
  },
  {
   "cell_type": "markdown",
   "id": "7d313bb0",
   "metadata": {
    "id": "a4f7c0d0-027e-475a-bce5-ad96d059cd04"
   },
   "source": [
    "You are also provided with a dataset with national Air Quality Index (AQI) measurements by state over time for this analysis. `Pandas` was used to import the file `c4_epa_air_quality.csv` as a dataframe named `aqi`. As shown in this cell, the dataset has been automatically loaded in for you. You do not need to download the .csv file, or provide more code, in order to access the dataset and proceed with this lab. Please continue with this activity by completing the following instructions.\n",
    "\n",
    "**Note:** For purposes of your analysis, you can assume this data is randomly sampled from a larger population."
   ]
  },
  {
   "cell_type": "markdown",
   "id": "0fd0e124",
   "metadata": {
    "id": "4b765030-5f02-47d2-aa77-8ac5b2117cc1"
   },
   "source": [
    "#### Load Dataset"
   ]
  },
  {
   "cell_type": "code",
   "execution_count": 2,
   "id": "130c0c62",
   "metadata": {
    "id": "1ce82ed7-cf32-4028-ac77-a377e7638458",
    "tags": []
   },
   "outputs": [],
   "source": [
    "# IMPORT YOUR DATA\n",
    "aqi=pd.read_csv(\"c4_epa_air_quality.csv\")"
   ]
  },
  {
   "cell_type": "markdown",
   "id": "59d5e5dd",
   "metadata": {
    "id": "ZDz9XgvMy0MD"
   },
   "source": [
    "## Step 2: Data Exploration"
   ]
  },
  {
   "cell_type": "markdown",
   "id": "d3e168f8",
   "metadata": {
    "id": "c1ee0813-5e74-4564-8ea1-8d724700754a"
   },
   "source": [
    "### Before proceeding to your deliverables, explore your datasets.\n",
    "\n",
    "Use the following space to surface descriptive statistics about your data. In particular, explore whether you believe the research questions you were given are readily answerable with this data."
   ]
  },
  {
   "cell_type": "code",
   "execution_count": 3,
   "id": "97849ad1",
   "metadata": {},
   "outputs": [
    {
     "data": {
      "text/html": [
       "<div>\n",
       "<style scoped>\n",
       "    .dataframe tbody tr th:only-of-type {\n",
       "        vertical-align: middle;\n",
       "    }\n",
       "\n",
       "    .dataframe tbody tr th {\n",
       "        vertical-align: top;\n",
       "    }\n",
       "\n",
       "    .dataframe thead th {\n",
       "        text-align: right;\n",
       "    }\n",
       "</style>\n",
       "<table border=\"1\" class=\"dataframe\">\n",
       "  <thead>\n",
       "    <tr style=\"text-align: right;\">\n",
       "      <th></th>\n",
       "      <th>Unnamed: 0</th>\n",
       "      <th>date_local</th>\n",
       "      <th>state_name</th>\n",
       "      <th>county_name</th>\n",
       "      <th>city_name</th>\n",
       "      <th>local_site_name</th>\n",
       "      <th>parameter_name</th>\n",
       "      <th>units_of_measure</th>\n",
       "      <th>arithmetic_mean</th>\n",
       "      <th>aqi</th>\n",
       "    </tr>\n",
       "  </thead>\n",
       "  <tbody>\n",
       "    <tr>\n",
       "      <th>0</th>\n",
       "      <td>0</td>\n",
       "      <td>2018-01-01</td>\n",
       "      <td>Arizona</td>\n",
       "      <td>Maricopa</td>\n",
       "      <td>Buckeye</td>\n",
       "      <td>BUCKEYE</td>\n",
       "      <td>Carbon monoxide</td>\n",
       "      <td>Parts per million</td>\n",
       "      <td>0.473684</td>\n",
       "      <td>7</td>\n",
       "    </tr>\n",
       "    <tr>\n",
       "      <th>1</th>\n",
       "      <td>1</td>\n",
       "      <td>2018-01-01</td>\n",
       "      <td>Ohio</td>\n",
       "      <td>Belmont</td>\n",
       "      <td>Shadyside</td>\n",
       "      <td>Shadyside</td>\n",
       "      <td>Carbon monoxide</td>\n",
       "      <td>Parts per million</td>\n",
       "      <td>0.263158</td>\n",
       "      <td>5</td>\n",
       "    </tr>\n",
       "    <tr>\n",
       "      <th>2</th>\n",
       "      <td>2</td>\n",
       "      <td>2018-01-01</td>\n",
       "      <td>Wyoming</td>\n",
       "      <td>Teton</td>\n",
       "      <td>Not in a city</td>\n",
       "      <td>Yellowstone National Park - Old Faithful Snow ...</td>\n",
       "      <td>Carbon monoxide</td>\n",
       "      <td>Parts per million</td>\n",
       "      <td>0.111111</td>\n",
       "      <td>2</td>\n",
       "    </tr>\n",
       "    <tr>\n",
       "      <th>3</th>\n",
       "      <td>3</td>\n",
       "      <td>2018-01-01</td>\n",
       "      <td>Pennsylvania</td>\n",
       "      <td>Philadelphia</td>\n",
       "      <td>Philadelphia</td>\n",
       "      <td>North East Waste (NEW)</td>\n",
       "      <td>Carbon monoxide</td>\n",
       "      <td>Parts per million</td>\n",
       "      <td>0.300000</td>\n",
       "      <td>3</td>\n",
       "    </tr>\n",
       "    <tr>\n",
       "      <th>4</th>\n",
       "      <td>4</td>\n",
       "      <td>2018-01-01</td>\n",
       "      <td>Iowa</td>\n",
       "      <td>Polk</td>\n",
       "      <td>Des Moines</td>\n",
       "      <td>CARPENTER</td>\n",
       "      <td>Carbon monoxide</td>\n",
       "      <td>Parts per million</td>\n",
       "      <td>0.215789</td>\n",
       "      <td>3</td>\n",
       "    </tr>\n",
       "    <tr>\n",
       "      <th>5</th>\n",
       "      <td>5</td>\n",
       "      <td>2018-01-01</td>\n",
       "      <td>Hawaii</td>\n",
       "      <td>Honolulu</td>\n",
       "      <td>Not in a city</td>\n",
       "      <td>Kapolei</td>\n",
       "      <td>Carbon monoxide</td>\n",
       "      <td>Parts per million</td>\n",
       "      <td>0.994737</td>\n",
       "      <td>14</td>\n",
       "    </tr>\n",
       "    <tr>\n",
       "      <th>6</th>\n",
       "      <td>6</td>\n",
       "      <td>2018-01-01</td>\n",
       "      <td>Hawaii</td>\n",
       "      <td>Honolulu</td>\n",
       "      <td>Not in a city</td>\n",
       "      <td>Kapolei</td>\n",
       "      <td>Carbon monoxide</td>\n",
       "      <td>Parts per million</td>\n",
       "      <td>0.200000</td>\n",
       "      <td>2</td>\n",
       "    </tr>\n",
       "    <tr>\n",
       "      <th>7</th>\n",
       "      <td>7</td>\n",
       "      <td>2018-01-01</td>\n",
       "      <td>Pennsylvania</td>\n",
       "      <td>Erie</td>\n",
       "      <td>Erie</td>\n",
       "      <td>NaN</td>\n",
       "      <td>Carbon monoxide</td>\n",
       "      <td>Parts per million</td>\n",
       "      <td>0.200000</td>\n",
       "      <td>2</td>\n",
       "    </tr>\n",
       "    <tr>\n",
       "      <th>8</th>\n",
       "      <td>8</td>\n",
       "      <td>2018-01-01</td>\n",
       "      <td>Hawaii</td>\n",
       "      <td>Honolulu</td>\n",
       "      <td>Honolulu</td>\n",
       "      <td>Honolulu</td>\n",
       "      <td>Carbon monoxide</td>\n",
       "      <td>Parts per million</td>\n",
       "      <td>0.400000</td>\n",
       "      <td>5</td>\n",
       "    </tr>\n",
       "    <tr>\n",
       "      <th>9</th>\n",
       "      <td>9</td>\n",
       "      <td>2018-01-01</td>\n",
       "      <td>Colorado</td>\n",
       "      <td>Larimer</td>\n",
       "      <td>Fort Collins</td>\n",
       "      <td>Fort Collins - CSU - S. Mason</td>\n",
       "      <td>Carbon monoxide</td>\n",
       "      <td>Parts per million</td>\n",
       "      <td>0.300000</td>\n",
       "      <td>6</td>\n",
       "    </tr>\n",
       "  </tbody>\n",
       "</table>\n",
       "</div>"
      ],
      "text/plain": [
       "   Unnamed: 0  date_local    state_name   county_name      city_name  \\\n",
       "0           0  2018-01-01       Arizona      Maricopa        Buckeye   \n",
       "1           1  2018-01-01          Ohio       Belmont      Shadyside   \n",
       "2           2  2018-01-01       Wyoming         Teton  Not in a city   \n",
       "3           3  2018-01-01  Pennsylvania  Philadelphia   Philadelphia   \n",
       "4           4  2018-01-01          Iowa          Polk     Des Moines   \n",
       "5           5  2018-01-01        Hawaii      Honolulu  Not in a city   \n",
       "6           6  2018-01-01        Hawaii      Honolulu  Not in a city   \n",
       "7           7  2018-01-01  Pennsylvania          Erie           Erie   \n",
       "8           8  2018-01-01        Hawaii      Honolulu       Honolulu   \n",
       "9           9  2018-01-01      Colorado       Larimer   Fort Collins   \n",
       "\n",
       "                                     local_site_name   parameter_name  \\\n",
       "0                                            BUCKEYE  Carbon monoxide   \n",
       "1                                          Shadyside  Carbon monoxide   \n",
       "2  Yellowstone National Park - Old Faithful Snow ...  Carbon monoxide   \n",
       "3                             North East Waste (NEW)  Carbon monoxide   \n",
       "4                                          CARPENTER  Carbon monoxide   \n",
       "5                                            Kapolei  Carbon monoxide   \n",
       "6                                            Kapolei  Carbon monoxide   \n",
       "7                                                NaN  Carbon monoxide   \n",
       "8                                           Honolulu  Carbon monoxide   \n",
       "9                      Fort Collins - CSU - S. Mason  Carbon monoxide   \n",
       "\n",
       "    units_of_measure  arithmetic_mean  aqi  \n",
       "0  Parts per million         0.473684    7  \n",
       "1  Parts per million         0.263158    5  \n",
       "2  Parts per million         0.111111    2  \n",
       "3  Parts per million         0.300000    3  \n",
       "4  Parts per million         0.215789    3  \n",
       "5  Parts per million         0.994737   14  \n",
       "6  Parts per million         0.200000    2  \n",
       "7  Parts per million         0.200000    2  \n",
       "8  Parts per million         0.400000    5  \n",
       "9  Parts per million         0.300000    6  "
      ]
     },
     "execution_count": 3,
     "metadata": {},
     "output_type": "execute_result"
    }
   ],
   "source": [
    "# Use head() to show a sample of data\n",
    "aqi.head(10)"
   ]
  },
  {
   "cell_type": "code",
   "execution_count": 4,
   "id": "a7883499",
   "metadata": {},
   "outputs": [
    {
     "name": "stdout",
     "output_type": "stream",
     "text": [
      "<class 'pandas.core.frame.DataFrame'>\n",
      "RangeIndex: 260 entries, 0 to 259\n",
      "Data columns (total 10 columns):\n",
      " #   Column            Non-Null Count  Dtype  \n",
      "---  ------            --------------  -----  \n",
      " 0   Unnamed: 0        260 non-null    int64  \n",
      " 1   date_local        260 non-null    object \n",
      " 2   state_name        260 non-null    object \n",
      " 3   county_name       260 non-null    object \n",
      " 4   city_name         260 non-null    object \n",
      " 5   local_site_name   257 non-null    object \n",
      " 6   parameter_name    260 non-null    object \n",
      " 7   units_of_measure  260 non-null    object \n",
      " 8   arithmetic_mean   260 non-null    float64\n",
      " 9   aqi               260 non-null    int64  \n",
      "dtypes: float64(1), int64(2), object(7)\n",
      "memory usage: 20.4+ KB\n"
     ]
    }
   ],
   "source": [
    "# check varibles\n",
    "aqi.info()"
   ]
  },
  {
   "cell_type": "code",
   "execution_count": 5,
   "id": "aca49a95",
   "metadata": {},
   "outputs": [
    {
     "data": {
      "text/html": [
       "<div>\n",
       "<style scoped>\n",
       "    .dataframe tbody tr th:only-of-type {\n",
       "        vertical-align: middle;\n",
       "    }\n",
       "\n",
       "    .dataframe tbody tr th {\n",
       "        vertical-align: top;\n",
       "    }\n",
       "\n",
       "    .dataframe thead th {\n",
       "        text-align: right;\n",
       "    }\n",
       "</style>\n",
       "<table border=\"1\" class=\"dataframe\">\n",
       "  <thead>\n",
       "    <tr style=\"text-align: right;\">\n",
       "      <th></th>\n",
       "      <th>Unnamed: 0</th>\n",
       "      <th>arithmetic_mean</th>\n",
       "      <th>aqi</th>\n",
       "    </tr>\n",
       "  </thead>\n",
       "  <tbody>\n",
       "    <tr>\n",
       "      <th>count</th>\n",
       "      <td>260.000000</td>\n",
       "      <td>260.000000</td>\n",
       "      <td>260.000000</td>\n",
       "    </tr>\n",
       "    <tr>\n",
       "      <th>mean</th>\n",
       "      <td>129.500000</td>\n",
       "      <td>0.403169</td>\n",
       "      <td>6.757692</td>\n",
       "    </tr>\n",
       "    <tr>\n",
       "      <th>std</th>\n",
       "      <td>75.199734</td>\n",
       "      <td>0.317902</td>\n",
       "      <td>7.061707</td>\n",
       "    </tr>\n",
       "    <tr>\n",
       "      <th>min</th>\n",
       "      <td>0.000000</td>\n",
       "      <td>0.000000</td>\n",
       "      <td>0.000000</td>\n",
       "    </tr>\n",
       "    <tr>\n",
       "      <th>25%</th>\n",
       "      <td>64.750000</td>\n",
       "      <td>0.200000</td>\n",
       "      <td>2.000000</td>\n",
       "    </tr>\n",
       "    <tr>\n",
       "      <th>50%</th>\n",
       "      <td>129.500000</td>\n",
       "      <td>0.276315</td>\n",
       "      <td>5.000000</td>\n",
       "    </tr>\n",
       "    <tr>\n",
       "      <th>75%</th>\n",
       "      <td>194.250000</td>\n",
       "      <td>0.516009</td>\n",
       "      <td>9.000000</td>\n",
       "    </tr>\n",
       "    <tr>\n",
       "      <th>max</th>\n",
       "      <td>259.000000</td>\n",
       "      <td>1.921053</td>\n",
       "      <td>50.000000</td>\n",
       "    </tr>\n",
       "  </tbody>\n",
       "</table>\n",
       "</div>"
      ],
      "text/plain": [
       "       Unnamed: 0  arithmetic_mean         aqi\n",
       "count  260.000000       260.000000  260.000000\n",
       "mean   129.500000         0.403169    6.757692\n",
       "std     75.199734         0.317902    7.061707\n",
       "min      0.000000         0.000000    0.000000\n",
       "25%     64.750000         0.200000    2.000000\n",
       "50%    129.500000         0.276315    5.000000\n",
       "75%    194.250000         0.516009    9.000000\n",
       "max    259.000000         1.921053   50.000000"
      ]
     },
     "execution_count": 5,
     "metadata": {},
     "output_type": "execute_result"
    }
   ],
   "source": [
    "# Use describe() to summarize AQI\n",
    "aqi.describe()"
   ]
  },
  {
   "cell_type": "code",
   "execution_count": 6,
   "id": "a7744e7d",
   "metadata": {
    "id": "0444122d-6fba-4051-8b09-b15392aacebf",
    "tags": []
   },
   "outputs": [
    {
     "data": {
      "text/plain": [
       "state_name\n",
       "California              66\n",
       "Arizona                 14\n",
       "Ohio                    12\n",
       "Florida                 12\n",
       "Texas                   10\n",
       "New York                10\n",
       "Pennsylvania            10\n",
       "Michigan                 9\n",
       "Colorado                 9\n",
       "Minnesota                7\n",
       "New Jersey               6\n",
       "Indiana                  5\n",
       "North Carolina           4\n",
       "Massachusetts            4\n",
       "Maryland                 4\n",
       "Oklahoma                 4\n",
       "Virginia                 4\n",
       "Nevada                   4\n",
       "Connecticut              4\n",
       "Kentucky                 3\n",
       "Missouri                 3\n",
       "Wyoming                  3\n",
       "Iowa                     3\n",
       "Hawaii                   3\n",
       "Utah                     3\n",
       "Vermont                  3\n",
       "Illinois                 3\n",
       "New Hampshire            2\n",
       "District Of Columbia     2\n",
       "New Mexico               2\n",
       "Montana                  2\n",
       "Oregon                   2\n",
       "Alaska                   2\n",
       "Georgia                  2\n",
       "Washington               2\n",
       "Idaho                    2\n",
       "Nebraska                 2\n",
       "Rhode Island             2\n",
       "Tennessee                2\n",
       "Maine                    2\n",
       "South Carolina           1\n",
       "Puerto Rico              1\n",
       "Arkansas                 1\n",
       "Kansas                   1\n",
       "Mississippi              1\n",
       "Alabama                  1\n",
       "Louisiana                1\n",
       "Delaware                 1\n",
       "South Dakota             1\n",
       "West Virginia            1\n",
       "North Dakota             1\n",
       "Wisconsin                1\n",
       "Name: count, dtype: int64"
      ]
     },
     "execution_count": 6,
     "metadata": {},
     "output_type": "execute_result"
    }
   ],
   "source": [
    "# For a more thorough examination of observations by state use values_counts()\n",
    "aqi['state_name'].value_counts()"
   ]
  },
  {
   "cell_type": "markdown",
   "id": "e1a7330a",
   "metadata": {
    "id": "4a29c065-73b4-409f-a57c-b49c740f3d1d"
   },
   "source": [
    "#### **Question 1: From the preceding data exploration, what do you recognize?**"
   ]
  },
  {
   "cell_type": "markdown",
   "id": "4611ad2d",
   "metadata": {
    "id": "yxdjmP4WJ4wH"
   },
   "source": [
    "A: I recognize that the number of occurance of California are disappropriately more than other states. This might because there are more sites in California."
   ]
  },
  {
   "cell_type": "markdown",
   "id": "3769b727",
   "metadata": {
    "id": "fd48d0f0-3f90-455e-87a1-0da43fcac202"
   },
   "source": [
    "## Step 3. Statistical Tests\n",
    "\n",
    "Before you proceed, recall the following steps for conducting hypothesis testing:\n",
    "\n",
    "1. Formulate the null hypothesis and the alternative hypothesis.<br>\n",
    "2. Set the significance level.<br>\n",
    "3. Determine the appropriate test procedure.<br>\n",
    "4. Compute the p-value.<br>\n",
    "5. Draw your conclusion."
   ]
  },
  {
   "cell_type": "markdown",
   "id": "dd143709",
   "metadata": {
    "id": "d572fbab-b82e-4898-96d5-93a8f20c3094"
   },
   "source": [
    "### Hypothesis 1: ROA is considering a metropolitan-focused approach. Within California, they want to know if the mean AQI in Los Angeles County is statistically different from the rest of California.\n",
    "\n",
    "Before proceeding with your analysis, it will be helpful to subset the data for your comparison."
   ]
  },
  {
   "cell_type": "code",
   "execution_count": 15,
   "id": "520b24ba",
   "metadata": {
    "id": "c8e42529-af00-4699-96b4-bd0f8989014a"
   },
   "outputs": [],
   "source": [
    "# Create dataframes for each sample being compared in your test\n",
    "california= aqi[aqi[\"state_name\"] == \"California\"]\n",
    "losangeles=aqi[aqi['county_name']=='Los Angeles']\n",
    "rest = california[california[\"county_name\"] != \"Los Angeles\"]"
   ]
  },
  {
   "cell_type": "code",
   "execution_count": 16,
   "id": "c9bc7665",
   "metadata": {},
   "outputs": [
    {
     "name": "stdout",
     "output_type": "stream",
     "text": [
      "    Unnamed: 0  date_local  state_name     county_name      city_name  \\\n",
      "16          16  2018-01-01  California  San Bernardino        Ontario   \n",
      "18          18  2018-01-01  California      Sacramento   Arden-Arcade   \n",
      "26          26  2018-01-01  California          Orange       La Habra   \n",
      "27          27  2018-01-01  California         Alameda  Not in a city   \n",
      "34          34  2018-01-01  California          Fresno         Fresno   \n",
      "40          40  2018-01-01  California       San Mateo   Redwood City   \n",
      "43          43  2018-01-01  California    Contra Costa        Concord   \n",
      "45          45  2018-01-01  California           Butte          Chico   \n",
      "46          46  2018-01-01  California       Riverside      Mira Loma   \n",
      "58          58  2018-01-01  California            Kern          Arvin   \n",
      "\n",
      "                 local_site_name   parameter_name   units_of_measure  \\\n",
      "16  Ontario Near Road (Etiwanda)  Carbon monoxide  Parts per million   \n",
      "18     Sacramento-Del Paso Manor  Carbon monoxide  Parts per million   \n",
      "26                      La Habra  Carbon monoxide  Parts per million   \n",
      "27        Berkeley- Aquatic Park  Carbon monoxide  Parts per million   \n",
      "34              Fresno - Garland  Carbon monoxide  Parts per million   \n",
      "40                  Redwood City  Carbon monoxide  Parts per million   \n",
      "43                       Concord  Carbon monoxide  Parts per million   \n",
      "45             Chico-East Avenue  Carbon monoxide  Parts per million   \n",
      "46         Mira Loma (Van Buren)  Carbon monoxide  Parts per million   \n",
      "58              Arvin-Di Giorgio  Carbon monoxide  Parts per million   \n",
      "\n",
      "    arithmetic_mean  aqi  \n",
      "16         0.747368   11  \n",
      "18         0.752632   16  \n",
      "26         0.673684   13  \n",
      "27         1.088889   15  \n",
      "34         1.000000   15  \n",
      "40         0.672222   10  \n",
      "43         0.294444    5  \n",
      "45         0.466667    9  \n",
      "46         1.231579   27  \n",
      "58         0.278947    3  \n",
      "     Unnamed: 0  date_local  state_name  county_name      city_name  \\\n",
      "33           33  2018-01-01  California  Los Angeles      Lancaster   \n",
      "42           42  2018-01-01  California  Los Angeles  Santa Clarita   \n",
      "61           61  2018-01-01  California  Los Angeles       Pasadena   \n",
      "76           76  2018-01-01  California  Los Angeles    Los Angeles   \n",
      "109         109  2018-01-01  California  Los Angeles    Los Angeles   \n",
      "110         110  2018-01-01  California  Los Angeles    Los Angeles   \n",
      "119         119  2018-01-01  California  Los Angeles         Reseda   \n",
      "132         132  2018-01-01  California  Los Angeles        Compton   \n",
      "163         163  2018-01-01  California  Los Angeles          Azusa   \n",
      "172         172  2018-01-01  California  Los Angeles    Pico Rivera   \n",
      "\n",
      "                   local_site_name   parameter_name   units_of_measure  \\\n",
      "33       Lancaster-Division Street  Carbon monoxide  Parts per million   \n",
      "42                   Santa Clarita  Carbon monoxide  Parts per million   \n",
      "61                        Pasadena  Carbon monoxide  Parts per million   \n",
      "76                    LAX Hastings  Carbon monoxide  Parts per million   \n",
      "109  Los Angeles-North Main Street  Carbon monoxide  Parts per million   \n",
      "110  Los Angeles-North Main Street  Carbon monoxide  Parts per million   \n",
      "119                         Reseda  Carbon monoxide  Parts per million   \n",
      "132                        Compton  Carbon monoxide  Parts per million   \n",
      "163                          Azusa  Carbon monoxide  Parts per million   \n",
      "172                 Pico Rivera #2  Carbon monoxide  Parts per million   \n",
      "\n",
      "     arithmetic_mean  aqi  \n",
      "33          0.394737    7  \n",
      "42          0.394737    7  \n",
      "61          0.789474   16  \n",
      "76          0.863158   17  \n",
      "109         0.994737   17  \n",
      "110         0.900000   16  \n",
      "119         1.015789   19  \n",
      "132         1.742105   40  \n",
      "163         0.673684   10  \n",
      "172         1.047368   18  \n"
     ]
    }
   ],
   "source": [
    "# Check head\n",
    "print(rest.head(10))\n",
    "print(losangeles.head(10))"
   ]
  },
  {
   "cell_type": "markdown",
   "id": "71c36b3c",
   "metadata": {
    "id": "7dff76cf-3a49-49d2-9660-0b5ec17d5f0a"
   },
   "source": [
    "#### Formulate your hypothesis:"
   ]
  },
  {
   "cell_type": "markdown",
   "id": "26003f8d",
   "metadata": {
    "id": "fdddef66-6207-4cc0-853c-0b578674bbfc"
   },
   "source": [
    "**Formulate your null and alternative hypotheses:**\n",
    "\n",
    "*   $H_0$: There is no difference in the mean AQI between Los Angeles County and the rest of California.\n",
    "*   $H_A$: There is a difference in the mean AQI between Los Angeles County and the rest of California.\n"
   ]
  },
  {
   "cell_type": "markdown",
   "id": "436741f5",
   "metadata": {
    "id": "5dac3136-16bf-45d2-a560-05fe5361f5cb"
   },
   "source": [
    "#### Set the significance level:"
   ]
  },
  {
   "cell_type": "code",
   "execution_count": 14,
   "id": "4206a258",
   "metadata": {
    "id": "5ef36549-7ccb-4547-bf04-d23b166c65d4"
   },
   "outputs": [],
   "source": [
    "# For this analysis, the significance level is 5%"
   ]
  },
  {
   "cell_type": "markdown",
   "id": "74f9ee6a",
   "metadata": {
    "id": "4ebb679d-188d-4ca8-a886-6edb9ba1301e"
   },
   "source": [
    "#### Determine the appropriate test procedure:"
   ]
  },
  {
   "cell_type": "markdown",
   "id": "013b6299",
   "metadata": {
    "id": "ab717428-91e5-4f88-b6d5-0a8c3034e010"
   },
   "source": [
    "Here, you are comparing the sample means between two independent samples. Therefore, you will utilize a **two-sample  𝑡-test**."
   ]
  },
  {
   "cell_type": "markdown",
   "id": "ba80f47e",
   "metadata": {
    "id": "e862eb4d-a170-4126-9373-a527bf5659da"
   },
   "source": [
    "#### Compute the P-value"
   ]
  },
  {
   "cell_type": "code",
   "execution_count": 20,
   "id": "064c5c63",
   "metadata": {
    "id": "83ef0d80-48ec-4a5a-8acd-0fab137243c3",
    "tags": []
   },
   "outputs": [
    {
     "name": "stdout",
     "output_type": "stream",
     "text": [
      "16.285714285714285\n",
      "11.0\n"
     ]
    }
   ],
   "source": [
    "# Compute your p-value here\n",
    "print(losangeles[\"aqi\"].mean())\n",
    "print(rest[\"aqi\"].mean())"
   ]
  },
  {
   "cell_type": "markdown",
   "id": "89992c42",
   "metadata": {
    "id": "2d62e8b0-59e5-471d-a5fc-d50395955a2a"
   },
   "source": [
    "#### **Question 2. What is your P-value for hypothesis 1, and what does this indicate for your null hypothesis?**"
   ]
  },
  {
   "cell_type": "code",
   "execution_count": 19,
   "id": "6c414846",
   "metadata": {},
   "outputs": [
    {
     "name": "stdout",
     "output_type": "stream",
     "text": [
      "2.1107010796372014\n",
      "0.049839056842410995\n"
     ]
    }
   ],
   "source": [
    "# Extracting pvalue and make the test\n",
    "t_stat, p_value = stats.ttest_ind(losangeles['aqi'], rest['aqi'], equal_var=False)\n",
    "print(t_stat)\n",
    "print(p_value)"
   ]
  },
  {
   "cell_type": "markdown",
   "id": "0e2f703e",
   "metadata": {
    "id": "KUEKceuOJ1S2"
   },
   "source": [
    "A: The P value for hypothesis 1 is 0.04984, smaller than 5%, so the null hypothesis is rejected and there is a difference in the mean AQI between Los Angeles County and the rest of California. Specifically, the mean aqi in Los Angeles County is significantly higher than the rest of California."
   ]
  },
  {
   "cell_type": "markdown",
   "id": "f680c25b",
   "metadata": {
    "id": "94a88155-3328-4c7e-8e60-67a2ba9d7967"
   },
   "source": [
    "### Hypothesis 2: With limited resources, ROA has to choose between New York and Ohio for their next regional office. Does New York have a lower AQI than Ohio?\n",
    "\n",
    "Before proceeding with your analysis, it will be helpful to subset the data for your comparison."
   ]
  },
  {
   "cell_type": "code",
   "execution_count": 21,
   "id": "22d89432",
   "metadata": {
    "id": "f39b7d83-9fbf-4bba-90c2-c99f903badd8"
   },
   "outputs": [],
   "source": [
    "# Create dataframes for each sample being compared in your test\n",
    "newyork=aqi[aqi['state_name']=='New York']\n",
    "ohio=aqi[aqi['state_name']=='Ohio']"
   ]
  },
  {
   "cell_type": "code",
   "execution_count": 22,
   "id": "096f3ce4",
   "metadata": {},
   "outputs": [
    {
     "name": "stdout",
     "output_type": "stream",
     "text": [
      "     Unnamed: 0  date_local state_name county_name      city_name  \\\n",
      "90           90  2018-01-01   New York        Erie    Cheektowaga   \n",
      "113         113  2018-01-01   New York       Bronx       New York   \n",
      "124         124  2018-01-01   New York      Monroe      Rochester   \n",
      "167         167  2018-01-01   New York    New York       New York   \n",
      "173         173  2018-01-01   New York      Queens       New York   \n",
      "182         182  2018-01-01   New York      Queens       New York   \n",
      "184         184  2018-01-01   New York     Steuben  Not in a city   \n",
      "195         195  2018-01-01   New York        Erie        Buffalo   \n",
      "196         196  2018-01-01   New York      Monroe      Rochester   \n",
      "234         234  2018-01-01   New York      Albany         Albany   \n",
      "\n",
      "              local_site_name   parameter_name   units_of_measure  \\\n",
      "90          Buffalo Near-Road  Carbon monoxide  Parts per million   \n",
      "113           PFIZER LAB SITE  Carbon monoxide  Parts per million   \n",
      "124               ROCHESTER 2  Carbon monoxide  Parts per million   \n",
      "167                      CCNY  Carbon monoxide  Parts per million   \n",
      "173  Queens College Near Road  Carbon monoxide  Parts per million   \n",
      "182          QUEENS COLLEGE 2  Carbon monoxide  Parts per million   \n",
      "184       PINNACLE STATE PARK  Carbon monoxide  Parts per million   \n",
      "195                   BUFFALO  Carbon monoxide  Parts per million   \n",
      "196       Rochester Near-Road  Carbon monoxide  Parts per million   \n",
      "234               LOUDONVILLE  Carbon monoxide  Parts per million   \n",
      "\n",
      "     arithmetic_mean  aqi  \n",
      "90          0.252632    3  \n",
      "113         0.289474    3  \n",
      "124         0.200000    2  \n",
      "167         0.200000    2  \n",
      "173         0.273684    3  \n",
      "182         0.200000    2  \n",
      "184         0.200000    2  \n",
      "195         0.300000    3  \n",
      "196         0.200000    2  \n",
      "234         0.221053    3  \n",
      "     Unnamed: 0  date_local state_name county_name             city_name  \\\n",
      "1             1  2018-01-01       Ohio     Belmont             Shadyside   \n",
      "12           12  2018-01-01       Ohio    Hamilton            Cincinnati   \n",
      "22           22  2018-01-01       Ohio       Stark                Canton   \n",
      "51           51  2018-01-01       Ohio      Summit                 Akron   \n",
      "59           59  2018-01-01       Ohio    Cuyahoga             Cleveland   \n",
      "120         120  2018-01-01       Ohio    Cuyahoga             Cleveland   \n",
      "149         149  2018-01-01       Ohio    Franklin              Columbus   \n",
      "191         191  2018-01-01       Ohio    Franklin              Columbus   \n",
      "215         215  2018-01-01       Ohio    Cuyahoga  Warrensville Heights   \n",
      "231         231  2018-01-01       Ohio  Montgomery                Dayton   \n",
      "\n",
      "         local_site_name   parameter_name   units_of_measure  arithmetic_mean  \\\n",
      "1              Shadyside  Carbon monoxide  Parts per million         0.263158   \n",
      "12            Taft NCore  Carbon monoxide  Parts per million         0.252632   \n",
      "22                Canton  Carbon monoxide  Parts per million         0.394737   \n",
      "51          NIHF STEM MS  Carbon monoxide  Parts per million         0.083333   \n",
      "59        GT Craig NCore  Carbon monoxide  Parts per million         0.250000   \n",
      "120             Galleria  Carbon monoxide  Parts per million         0.273684   \n",
      "149             Morse Rd  Carbon monoxide  Parts per million         0.184211   \n",
      "191  Smoky Row Near Road  Carbon monoxide  Parts per million         0.115789   \n",
      "215  Cleveland Near Road  Carbon monoxide  Parts per million         0.321053   \n",
      "231              Reibold  Carbon monoxide  Parts per million         0.163158   \n",
      "\n",
      "     aqi  \n",
      "1      5  \n",
      "12     3  \n",
      "22     6  \n",
      "51     3  \n",
      "59     3  \n",
      "120    3  \n",
      "149    3  \n",
      "191    2  \n",
      "215    5  \n",
      "231    2  \n"
     ]
    }
   ],
   "source": [
    "# Check head\n",
    "print(newyork.head(10))\n",
    "print(ohio.head(10))"
   ]
  },
  {
   "cell_type": "markdown",
   "id": "fe5b8451",
   "metadata": {
    "id": "029b0f9c-0d0c-475f-b745-643a313e2b79"
   },
   "source": [
    "**Formulate your null and alternative hypotheses:**\n",
    "\n",
    "*   $H_0$: The mean AQI of New York is greater than or equal to that of Ohio.\n",
    "*   $H_A$: The mean AQI of New York is **below** that of Ohio.\n"
   ]
  },
  {
   "cell_type": "markdown",
   "id": "02831105",
   "metadata": {
    "id": "b12559f5-bd57-4664-be80-7208ca8818b4"
   },
   "source": [
    "#### Significance Level (remains at 5%)"
   ]
  },
  {
   "cell_type": "markdown",
   "id": "82636352",
   "metadata": {
    "id": "2b57fcf8-6f9d-4dae-ba0d-4af9a24d991d"
   },
   "source": [
    "#### Determine the appropriate test procedure:"
   ]
  },
  {
   "cell_type": "markdown",
   "id": "7363c290",
   "metadata": {
    "id": "8ac7075f-1342-4522-9c49-1f43574d05f8"
   },
   "source": [
    "Here, you are comparing the sample means between two independent samples in one direction. Therefore, you will utilize a **two-sample  𝑡-test**."
   ]
  },
  {
   "cell_type": "markdown",
   "id": "ef760fa8",
   "metadata": {
    "id": "77f03fc8-0663-48b2-af4b-2936b35027e7"
   },
   "source": [
    "#### Compute the P-value"
   ]
  },
  {
   "cell_type": "code",
   "execution_count": 26,
   "id": "1941c028",
   "metadata": {
    "id": "e495500f-c3d9-4cf2-ad1d-4687640a01b4",
    "tags": []
   },
   "outputs": [
    {
     "name": "stdout",
     "output_type": "stream",
     "text": [
      "2.5\n",
      "3.3333333333333335\n"
     ]
    }
   ],
   "source": [
    "# Compute your p-value here\n",
    "print(newyork['aqi'].mean())\n",
    "print(ohio['aqi'].mean())"
   ]
  },
  {
   "cell_type": "markdown",
   "id": "8b3343ec",
   "metadata": {
    "id": "d56642db-8f45-405a-af7d-69bd3ad3fe58"
   },
   "source": [
    "#### **Question 3. What is your P-value for hypothesis 2, and what does this indicate for your null hypothesis?**"
   ]
  },
  {
   "cell_type": "code",
   "execution_count": 25,
   "id": "fbfdf1d0",
   "metadata": {},
   "outputs": [
    {
     "name": "stdout",
     "output_type": "stream",
     "text": [
      "-2.025951038880333\n",
      "0.03044650269193468\n"
     ]
    }
   ],
   "source": [
    "# Your code here.\n",
    "t_stat, p_value = stats.ttest_ind(newyork['aqi'], ohio['aqi'], equal_var=False, alternative='less')\n",
    "print(t_stat)\n",
    "print(p_value)"
   ]
  },
  {
   "cell_type": "markdown",
   "id": "f5c52a92",
   "metadata": {
    "id": "dFDxoQ9aJxz3"
   },
   "source": [
    "A: The p value of the test is 0.03, smaller than 0.05, so the null hypothesis is rejected at 5% level. As a result, the mean AQI of New York is significantly below that of Ohio."
   ]
  },
  {
   "cell_type": "markdown",
   "id": "72a1d6c0",
   "metadata": {
    "id": "4308fdf1-3080-4697-a0b4-4c7c59c49b9b"
   },
   "source": [
    "###  Hypothesis 3: A new policy will affect those states with a mean AQI of 10 or greater. Will Michigan be affected by this new policy?\n",
    "\n",
    "Before proceeding with your analysis, it will be helpful to subset the data for your comparison."
   ]
  },
  {
   "cell_type": "code",
   "execution_count": 29,
   "id": "942a92fc",
   "metadata": {
    "id": "559c43b4-ccb3-4a05-91d4-8f4aaee4d8b7"
   },
   "outputs": [
    {
     "name": "stdout",
     "output_type": "stream",
     "text": [
      "8.11111111111111\n"
     ]
    }
   ],
   "source": [
    "# Create dataframes for each sample being compared in your test\n",
    "michigan=aqi[aqi['state_name']=='Michigan']\n",
    "print(michigan['aqi'].mean())"
   ]
  },
  {
   "cell_type": "markdown",
   "id": "33c1e7b8",
   "metadata": {
    "id": "b25225ee-02d7-4d42-8746-9e68598b7bf6"
   },
   "source": [
    "**Formulate your null and alternative hypotheses here:**\n",
    "\n",
    "*   $H_0$: The mean AQI of Michigan is less than or equal to 10.\n",
    "*   $H_A$: The mean AQI of Michigan is greater than 10.\n"
   ]
  },
  {
   "cell_type": "markdown",
   "id": "359b1296",
   "metadata": {
    "id": "32581125-a9ef-4b17-b8d5-0e1085d4c746"
   },
   "source": [
    "#### Significance Level (remains at 5%)"
   ]
  },
  {
   "cell_type": "markdown",
   "id": "8f3b6682",
   "metadata": {
    "id": "915f8cd0-d06b-44ab-81f6-0effa96fae09"
   },
   "source": [
    "#### Determine the appropriate test procedure:"
   ]
  },
  {
   "cell_type": "markdown",
   "id": "2dc638ab",
   "metadata": {
    "id": "6753e251-d152-48c9-a5ad-bd46b62636ee"
   },
   "source": [
    "Here, you are comparing one sample mean relative to a particular value in one direction. Therefore, you will utilize a **one-sample  𝑡-test**. "
   ]
  },
  {
   "cell_type": "markdown",
   "id": "2a769981",
   "metadata": {
    "id": "95443324-76bb-4473-b07b-dcc0c9be7251"
   },
   "source": [
    "#### Compute the P-value"
   ]
  },
  {
   "cell_type": "code",
   "execution_count": 28,
   "id": "ce6bc5ca",
   "metadata": {
    "id": "8b86c9f5-284a-4ed7-b2d4-2b531e0092f9",
    "tags": []
   },
   "outputs": [
    {
     "name": "stdout",
     "output_type": "stream",
     "text": [
      "-1.7395913343286131\n",
      "0.9399405193140109\n"
     ]
    }
   ],
   "source": [
    "# Compute your p-value here\n",
    "t_stat, p_value = stats.ttest_1samp(michigan['aqi'], 10, alternative='greater')\n",
    "print(t_stat)\n",
    "print(p_value)"
   ]
  },
  {
   "cell_type": "markdown",
   "id": "f7152ff0",
   "metadata": {
    "id": "33175451-2fed-4105-8a46-1bfb0ad3b714"
   },
   "source": [
    "#### **Question 4. What is your P-value for hypothesis 3, and what does this indicate for your null hypothesis?**"
   ]
  },
  {
   "cell_type": "markdown",
   "id": "2ac0a8ae",
   "metadata": {
    "id": "Li8YaXdqJuBF"
   },
   "source": [
    "A: The p value of the test is 0.94, larger than 0.05, so the null hypothesis cannot be rejected at 5% level. It is learnt that the mean aqi of Michigan is less or equal than 10, so this policy might not affect Michigan."
   ]
  },
  {
   "cell_type": "markdown",
   "id": "7e700620",
   "metadata": {
    "id": "oS3JWcpU127z"
   },
   "source": [
    "## Step 4. Results and Evaluation\n",
    "\n",
    "Now that you've completed your statistical tests, you can consider your hypotheses and the results you gathered."
   ]
  },
  {
   "cell_type": "markdown",
   "id": "5cd47841",
   "metadata": {
    "id": "q2p_8BmC16V-"
   },
   "source": [
    "#### **Question 5. Did your results show that the AQI in Los Angeles County was statistically different from the rest of California?**"
   ]
  },
  {
   "cell_type": "markdown",
   "id": "ee4ae645",
   "metadata": {
    "id": "US0JnLp3JrfX"
   },
   "source": [
    "A: Yes. Specifically, it shows that the aqi in Los Angeles County is statistically larger than the rest of California."
   ]
  },
  {
   "cell_type": "markdown",
   "id": "87baab11",
   "metadata": {
    "id": "G7-YawsW68Yd"
   },
   "source": [
    "#### **Question 6. Did New York or Ohio have a lower AQI?**"
   ]
  },
  {
   "cell_type": "markdown",
   "id": "14c5257a",
   "metadata": {
    "id": "zzSBoJwMJpgG"
   },
   "source": [
    "A: Yes, New York has a statistically lower aqi than Ohio does. "
   ]
  },
  {
   "cell_type": "markdown",
   "id": "41a8dcc3",
   "metadata": {
    "id": "ppAmh9nD7HkZ"
   },
   "source": [
    "#### **Question 7: Will Michigan be affected by the new policy impacting states with a mean AQI of 10 or greater?**\n",
    "\n"
   ]
  },
  {
   "cell_type": "markdown",
   "id": "521eed8e",
   "metadata": {
    "id": "1nfqgTngJnLV"
   },
   "source": [
    "A: Since the aqi of Michigan is lower than 10, it would not be impacted by the new policy. "
   ]
  },
  {
   "cell_type": "markdown",
   "id": "99c52977",
   "metadata": {
    "id": "e2bf2c48-c712-4310-a83e-96a13edc4da1"
   },
   "source": [
    "# Conclusion\n",
    "\n",
    "**What are key takeaways from this project?**\n",
    "\n",
    "A: This project teaches me how to conduct hypothesis tests step by step, from setting the null and alternative hypotheses to interpreting the results of p-values and t-statistics.\n",
    "\n",
    "**What would you consider presenting to your manager as part of your findings?**\n",
    "\n",
    "A: The Los Angeles County maintains statistically higher mean aqi than the rest of California. New York maintains a statistically lower mean aqi than Ohio. The mean aqi of Michigan is statistically lower than 10. Concerning statistic process and results could be added.\n",
    "\n",
    "\n",
    "**What would you convey to external readers?**\n",
    "\n",
    "A: \n",
    "The Los Angeles County maintains statistically higher mean aqi than the rest of California, so the metropolitan-focused approach could be adopted.\n",
    "Since New York maintains a statistically lower mean aqi than Ohio, ROA might choose the next regional office in New York.\n",
    "Since the mean aqi of Michigan is statistically lower than 10, this policy would not impact Michigan.\n"
   ]
  },
  {
   "cell_type": "markdown",
   "id": "8310edc2",
   "metadata": {},
   "source": []
  }
 ],
 "metadata": {
  "colab": {
   "collapsed_sections": [
    "b12559f5-bd57-4664-be80-7208ca8818b4",
    "32581125-a9ef-4b17-b8d5-0e1085d4c746"
   ],
   "provenance": []
  },
  "kernelspec": {
   "display_name": "Python 3 (ipykernel)",
   "language": "python",
   "name": "python3"
  },
  "language_info": {
   "codemirror_mode": {
    "name": "ipython",
    "version": 3
   },
   "file_extension": ".py",
   "mimetype": "text/x-python",
   "name": "python",
   "nbconvert_exporter": "python",
   "pygments_lexer": "ipython3",
   "version": "3.12.7"
  }
 },
 "nbformat": 4,
 "nbformat_minor": 5
}
